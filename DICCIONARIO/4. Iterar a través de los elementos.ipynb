{
 "cells": [
  {
   "cell_type": "markdown",
   "metadata": {},
   "source": [
    "Iterar a través de los elementos"
   ]
  },
  {
   "cell_type": "code",
   "execution_count": null,
   "metadata": {},
   "outputs": [],
   "source": [
    "#   podemos iterar a través de elementos en un diccionario utilizando un bucle for\n",
    "#   El bucle for itera a través de las claves por defecto, pero podemos acceder a los valores utilizando las claves:\n",
    "\n",
    "STUDENTS = {\"Jackson\": 16, \"Asgard\": 11, \"Luis\": 19}\n",
    "for clave in STUDENTS:\n",
    "    print(clave, STUDENTS[clave])\n",
    "# Esto imprimirá cada clave y su valor en una línea separada:\n",
    "#   Jackson 16\n",
    "#   Asgard 11\n",
    "#   Luis 19"
   ]
  },
  {
   "cell_type": "code",
   "execution_count": null,
   "metadata": {},
   "outputs": [],
   "source": [
    "#   También podemos utilizar el método items() para obtener una lista de tuplas clave:valor \n",
    "#   y luego iterar a través de ellas:\n",
    "\n",
    "STUDENTS = {\"Juaneto\": 19, \"Rechar\": 20, \"Atahualpa\": 17}\n",
    "for clave, valor in STUDENTS.items():\n",
    "    print(clave, valor)\n",
    "#   dara el mismo resultado que el bucle anterior."
   ]
  }
 ],
 "metadata": {
  "language_info": {
   "name": "python"
  }
 },
 "nbformat": 4,
 "nbformat_minor": 2
}
