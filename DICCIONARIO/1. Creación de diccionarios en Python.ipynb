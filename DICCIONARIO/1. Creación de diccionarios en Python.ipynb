{
 "cells": [
  {
   "cell_type": "markdown",
   "metadata": {},
   "source": [
    "Creación de diccionarios en Python"
   ]
  },
  {
   "cell_type": "code",
   "execution_count": null,
   "metadata": {},
   "outputs": [],
   "source": [
    "#   utilizando llaves { } y separar cada par clave-valor con dos puntos:\n",
    "\n",
    "ESTUDENTS = {\"Juanito\": 19, \"Gisela\": 15, \"Lucas\": 17}\n",
    "print(ESTUDENTS) \n",
    "# {\"Juanito\": 19, \"Gisela\": 15, \"Lucas\": 17}"
   ]
  },
  {
   "cell_type": "code",
   "execution_count": null,
   "metadata": {},
   "outputs": [],
   "source": [
    "#   También podemos crear un dicciontonirio con la función dict() y pasando una lista de tuplas clave:valor:\n",
    "\n",
    "\n",
    "ESTUDENTS = dict([(\"Julio\", 16), (\"Antoni\", 18), (\"Lupe\", 17)])\n",
    "print(ESTUDENTS)\n",
    "# {\"Julio\": 16, \"Antoni\": 18, \"Luis\": 17}"
   ]
  }
 ],
 "metadata": {
  "language_info": {
   "name": "python"
  }
 },
 "nbformat": 4,
 "nbformat_minor": 2
}
