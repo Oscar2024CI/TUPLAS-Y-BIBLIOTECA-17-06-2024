{
 "cells": [
  {
   "cell_type": "markdown",
   "metadata": {},
   "source": [
    "Agregar, modificar y eliminar elementos"
   ]
  },
  {
   "cell_type": "code",
   "execution_count": null,
   "metadata": {},
   "outputs": [],
   "source": [
    "#   Para agregar elementos a un diccionario, utilizamos la sintaxis diccionario[nueva_clave] = nuevo_valor:\n",
    "\n",
    "\n",
    "STUDENTS = {\"Juelix\": 16, \"Angie\": 18, \"Lourdes\": 17}\n",
    "STUDENTS[\"Maria\"] = 15  #agregar valor nuevo\n",
    "print(STUDENTS) \n",
    "# {\"Juelix\": 16, \"Angie\": 18, \"Lourdes\": 17, \"Maria\": 15}"
   ]
  },
  {
   "cell_type": "code",
   "execution_count": null,
   "metadata": {},
   "outputs": [],
   "source": [
    "#   Para modificar el valor de una clave existente, simplemente asignamos un nuevo valor a la clave:\n",
    "\n",
    "\n",
    "STUDENTS = {\"Juan\": 16, \"Ana\": 18, \"Luis\": 17}\n",
    "STUDENTS[\"Ana\"] = 19 # valor nuevo asignado\n",
    "print(STUDENTS) \n",
    "# {\"Juan\": 16, \"Ana\": 19, \"Luis\": 17}"
   ]
  },
  {
   "cell_type": "code",
   "execution_count": null,
   "metadata": {},
   "outputs": [],
   "source": [
    "#   Para eliminar un elemento, utilizamos la palabra clave \"del\" seguida de la clave a eliminar:\n",
    "\n",
    "\n",
    "STUDENTS = {\"Juan\": 16, \"Ana\": 18, \"Luis\": 17}\n",
    "del STUDENTS[\"Juan\"] # elemento eliminado\n",
    "print(STUDENTS) \n",
    "# {\"Ana\": 18, \"Luis\": 17}\n"
   ]
  }
 ],
 "metadata": {
  "language_info": {
   "name": "python"
  }
 },
 "nbformat": 4,
 "nbformat_minor": 2
}
