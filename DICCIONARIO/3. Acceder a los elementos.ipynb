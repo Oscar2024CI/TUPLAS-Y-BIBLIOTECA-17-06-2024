{
 "cells": [
  {
   "cell_type": "markdown",
   "metadata": {},
   "source": [
    "Acceder a los elementos"
   ]
  },
  {
   "cell_type": "code",
   "execution_count": null,
   "metadata": {},
   "outputs": [],
   "source": [
    "#   Para acceder a los elementos de un diccionario, podemos utilizar la clave correspondiente:\n",
    "\n",
    "STUDENTS = {\"Juan\": 16, \"Ana\": 18, \"Luis\": 17}\n",
    "print(STUDENTS[\"Ana\"])\n",
    "# 18\n"
   ]
  },
  {
   "cell_type": "code",
   "execution_count": null,
   "metadata": {},
   "outputs": [],
   "source": [
    "#   Si la clave no existe en el diccionario, se lanzará un error. Para evitar este error, utilizamos el método get():\n",
    "\n",
    "\n",
    "STUDENTS = {\"Jumangi\": 15, \"hankock\": 27, \"Luffy\": 19}\n",
    "print(STUDENTS.get(\"Sabo\", \"No existe\")) \n",
    "# \"No existe\""
   ]
  }
 ],
 "metadata": {
  "language_info": {
   "name": "python"
  }
 },
 "nbformat": 4,
 "nbformat_minor": 2
}
