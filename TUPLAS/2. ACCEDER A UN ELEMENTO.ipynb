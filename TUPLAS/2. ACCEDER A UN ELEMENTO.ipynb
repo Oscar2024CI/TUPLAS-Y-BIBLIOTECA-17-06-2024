{
 "cells": [
  {
   "cell_type": "markdown",
   "metadata": {},
   "source": [
    "Acceder a un elemento de una tupla en Python"
   ]
  },
  {
   "cell_type": "code",
   "execution_count": null,
   "metadata": {},
   "outputs": [],
   "source": [
    "##  Acceder a un elemento de una tupla en Python\n",
    "# Aquí hay un ejemplo de cómo acceder a un elemento de una tupla:\n",
    "\n",
    "\n",
    "TUPLA = (1, 2, 3, 4)\n",
    "print(TUPLA[2]) \n",
    "# Imprime 3"
   ]
  },
  {
   "cell_type": "code",
   "execution_count": null,
   "metadata": {},
   "outputs": [],
   "source": [
    "# También se puede utilizar una variable para almacenar el índice y acceder al elemento correspondiente:\n",
    "\n",
    "\n",
    "TUPLA = (1, 2, 3, 4)\n",
    "INDICE = 2\n",
    "\n",
    "print(TUPLA[INDICE]) \n",
    "# Imprime 3"
   ]
  },
  {
   "cell_type": "markdown",
   "metadata": {},
   "source": [
    "1.  Indexación negativa"
   ]
  },
  {
   "cell_type": "code",
   "execution_count": null,
   "metadata": {},
   "outputs": [],
   "source": [
    "MI_TUPLA = (1, 2, 3, 4)\n",
    "\n",
    "print(MI_TUPLA[-2]) \n",
    "# Imprime 3"
   ]
  },
  {
   "cell_type": "markdown",
   "metadata": {},
   "source": [
    "2.  Acceder a un rango de elementos"
   ]
  },
  {
   "cell_type": "code",
   "execution_count": null,
   "metadata": {},
   "outputs": [],
   "source": [
    "MI_TUPLA = (1, 2, 3, 4, 5)\n",
    "print(MI_TUPLA[1:3]) \n",
    "# Imprime (2, 3)\n"
   ]
  },
  {
   "cell_type": "markdown",
   "metadata": {},
   "source": [
    "EJEMPLOS"
   ]
  },
  {
   "cell_type": "code",
   "execution_count": null,
   "metadata": {},
   "outputs": [],
   "source": [
    "#   ejemplo de acceder a todos los elementos desde el inicio de una tupla:\n",
    "\n",
    "MI_TUPLA = (1, 2, 3, 4, 5)\n",
    "print(MI_TUPLA[:3]) \n",
    "# Imprime (1, 2, 3)"
   ]
  },
  {
   "cell_type": "code",
   "execution_count": null,
   "metadata": {},
   "outputs": [],
   "source": [
    "#   ejemplo de cómo acceder a todos los elementos hasta el final de una tupla:\n",
    "\n",
    "MI_TUPLA = (1, 2, 3, 4, 5)\n",
    "print(MI_TUPLA[2:]) \n",
    "# Imprime (3, 4, 5)"
   ]
  },
  {
   "cell_type": "code",
   "execution_count": null,
   "metadata": {},
   "outputs": [],
   "source": [
    "#   ejemplo de cómo acceder a cada segundo elemento de una tupla:\n",
    "\n",
    "MI_TUPLA = (1, 2, 3, 4, 5)\n",
    "print(MI_TUPLA[::2]) \n",
    "# Imprime (1, 3, 5)\n"
   ]
  },
  {
   "cell_type": "markdown",
   "metadata": {},
   "source": [
    "3.  Rango de índices negativos"
   ]
  },
  {
   "cell_type": "code",
   "execution_count": null,
   "metadata": {},
   "outputs": [],
   "source": [
    "#   ejemplo de cómo acceder a una gama de elementos de una tupla utilizando índices negativos:\n",
    "\n",
    "\n",
    "MI_TUPLA = (1, 2, 3, 4, 5)\n",
    "print(MI_TUPLA[-3:-1]) \n",
    "# Imprime (3, 4)"
   ]
  },
  {
   "cell_type": "code",
   "execution_count": null,
   "metadata": {},
   "outputs": [],
   "source": [
    "#   ejemplo de cómo acceder a cada segundo elemento de una tupla utilizando índices negativos:\n",
    "\n",
    "\n",
    "MI_TUPLA = (1, 2, 3, 4, 5)\n",
    "print(MI_TUPLA[-2::-2]) \n",
    "# Imprime (4, 2)"
   ]
  },
  {
   "cell_type": "markdown",
   "metadata": {},
   "source": [
    "4.  Comprobar si el artículo existe"
   ]
  },
  {
   "cell_type": "code",
   "execution_count": null,
   "metadata": {},
   "outputs": [],
   "source": [
    "#   ejemplo de cómo comprobar si un elemento existe en una tupla:\n",
    "\n",
    "\n",
    "MI_TUPLA = (1, 2, 3, 4)\n",
    "print(2 in MI_TUPLA)\n",
    "# Imprime True\n",
    "print(5 in MI_TUPLA) \n",
    "# Imprime False"
   ]
  },
  {
   "cell_type": "code",
   "execution_count": null,
   "metadata": {},
   "outputs": [],
   "source": [
    "#   ejemplo de cómo comprobar si un elemento no existe en una tupla:\n",
    "\n",
    "\n",
    "MI_TUPLA = (1, 2, 3, 4)\n",
    "print(2 not in MI_TUPLA) \n",
    "# Imprime False\n",
    "print(5 not in MI_TUPLA) \n",
    "# Imprime True"
   ]
  }
 ],
 "metadata": {
  "kernelspec": {
   "display_name": "Python 3",
   "language": "python",
   "name": "python3"
  },
  "language_info": {
   "name": "python",
   "version": "3.11.0"
  }
 },
 "nbformat": 4,
 "nbformat_minor": 2
}
